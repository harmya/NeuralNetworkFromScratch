{
 "cells": [
  {
   "cell_type": "code",
   "execution_count": 3,
   "metadata": {},
   "outputs": [],
   "source": [
    "#imports for neural network\n",
    "import numpy as np\n",
    "import matplotlib.pyplot as plt\n",
    "import pandas as pd\n",
    "import '../src/neuralNetwork.py'"
   ]
  },
  {
   "cell_type": "code",
   "execution_count": 4,
   "metadata": {},
   "outputs": [],
   "source": [
    "def load_data():\n",
    "    training_data = pd.read_csv(\"../data/mnist_train.csv\")\n",
    "    test_data = pd.read_csv(\"../data/mnist_test.csv\")\n",
    "\n",
    "    training_data = training_data.values\n",
    "    test_data = test_data.values\n",
    "\n",
    "    print(training_data.shape)\n",
    "    print(test_data.shape)\n",
    "\n",
    "    training_data = [(x[1:].reshape(784, 1), vectorized_result(x[0])) for x in training_data]\n",
    "    test_data = [(x[1:].reshape(784, 1), vectorized_result(x[0])) for x in test_data]\n",
    "    \n",
    "    return (training_data, test_data)"
   ]
  },
  {
   "cell_type": "code",
   "execution_count": 5,
   "metadata": {},
   "outputs": [
    {
     "name": "stdout",
     "output_type": "stream",
     "text": [
      "(60000, 785)\n",
      "(10000, 785)\n"
     ]
    },
    {
     "ename": "NameError",
     "evalue": "name 'vectorized_result' is not defined",
     "output_type": "error",
     "traceback": [
      "\u001b[0;31m---------------------------------------------------------------------------\u001b[0m",
      "\u001b[0;31mNameError\u001b[0m                                 Traceback (most recent call last)",
      "\u001b[1;32m/Users/harmyabhatt/NeuralNetworkFromScratch/src/modelRun.ipynb Cell 3\u001b[0m in \u001b[0;36m1\n\u001b[0;32m----> <a href='vscode-notebook-cell:/Users/harmyabhatt/NeuralNetworkFromScratch/src/modelRun.ipynb#W2sZmlsZQ%3D%3D?line=0'>1</a>\u001b[0m training_data, test_data \u001b[39m=\u001b[39m load_data()\n\u001b[1;32m      <a href='vscode-notebook-cell:/Users/harmyabhatt/NeuralNetworkFromScratch/src/modelRun.ipynb#W2sZmlsZQ%3D%3D?line=1'>2</a>\u001b[0m net \u001b[39m=\u001b[39m NeuralNetwork([\u001b[39m784\u001b[39m, \u001b[39m30\u001b[39m, \u001b[39m10\u001b[39m])\n\u001b[1;32m      <a href='vscode-notebook-cell:/Users/harmyabhatt/NeuralNetworkFromScratch/src/modelRun.ipynb#W2sZmlsZQ%3D%3D?line=2'>3</a>\u001b[0m net\u001b[39m.\u001b[39mtrain(training_data, \u001b[39m30\u001b[39m, \u001b[39m10\u001b[39m, \u001b[39m3.0\u001b[39m, test_data\u001b[39m=\u001b[39mtest_data)\n",
      "\u001b[1;32m/Users/harmyabhatt/NeuralNetworkFromScratch/src/modelRun.ipynb Cell 3\u001b[0m in \u001b[0;36m1\n\u001b[1;32m      <a href='vscode-notebook-cell:/Users/harmyabhatt/NeuralNetworkFromScratch/src/modelRun.ipynb#W2sZmlsZQ%3D%3D?line=7'>8</a>\u001b[0m \u001b[39mprint\u001b[39m(training_data\u001b[39m.\u001b[39mshape)\n\u001b[1;32m      <a href='vscode-notebook-cell:/Users/harmyabhatt/NeuralNetworkFromScratch/src/modelRun.ipynb#W2sZmlsZQ%3D%3D?line=8'>9</a>\u001b[0m \u001b[39mprint\u001b[39m(test_data\u001b[39m.\u001b[39mshape)\n\u001b[0;32m---> <a href='vscode-notebook-cell:/Users/harmyabhatt/NeuralNetworkFromScratch/src/modelRun.ipynb#W2sZmlsZQ%3D%3D?line=10'>11</a>\u001b[0m training_data \u001b[39m=\u001b[39m [(x[\u001b[39m1\u001b[39;49m:]\u001b[39m.\u001b[39;49mreshape(\u001b[39m784\u001b[39;49m, \u001b[39m1\u001b[39;49m), vectorized_result(x[\u001b[39m0\u001b[39;49m])) \u001b[39mfor\u001b[39;49;00m x \u001b[39min\u001b[39;49;00m training_data]\n\u001b[1;32m     <a href='vscode-notebook-cell:/Users/harmyabhatt/NeuralNetworkFromScratch/src/modelRun.ipynb#W2sZmlsZQ%3D%3D?line=11'>12</a>\u001b[0m test_data \u001b[39m=\u001b[39m [(x[\u001b[39m1\u001b[39m:]\u001b[39m.\u001b[39mreshape(\u001b[39m784\u001b[39m, \u001b[39m1\u001b[39m), vectorized_result(x[\u001b[39m0\u001b[39m])) \u001b[39mfor\u001b[39;00m x \u001b[39min\u001b[39;00m test_data]\n\u001b[1;32m     <a href='vscode-notebook-cell:/Users/harmyabhatt/NeuralNetworkFromScratch/src/modelRun.ipynb#W2sZmlsZQ%3D%3D?line=13'>14</a>\u001b[0m \u001b[39mreturn\u001b[39;00m (training_data, test_data)\n",
      "\u001b[1;32m/Users/harmyabhatt/NeuralNetworkFromScratch/src/modelRun.ipynb Cell 3\u001b[0m in \u001b[0;36m1\n\u001b[1;32m      <a href='vscode-notebook-cell:/Users/harmyabhatt/NeuralNetworkFromScratch/src/modelRun.ipynb#W2sZmlsZQ%3D%3D?line=7'>8</a>\u001b[0m \u001b[39mprint\u001b[39m(training_data\u001b[39m.\u001b[39mshape)\n\u001b[1;32m      <a href='vscode-notebook-cell:/Users/harmyabhatt/NeuralNetworkFromScratch/src/modelRun.ipynb#W2sZmlsZQ%3D%3D?line=8'>9</a>\u001b[0m \u001b[39mprint\u001b[39m(test_data\u001b[39m.\u001b[39mshape)\n\u001b[0;32m---> <a href='vscode-notebook-cell:/Users/harmyabhatt/NeuralNetworkFromScratch/src/modelRun.ipynb#W2sZmlsZQ%3D%3D?line=10'>11</a>\u001b[0m training_data \u001b[39m=\u001b[39m [(x[\u001b[39m1\u001b[39m:]\u001b[39m.\u001b[39mreshape(\u001b[39m784\u001b[39m, \u001b[39m1\u001b[39m), vectorized_result(x[\u001b[39m0\u001b[39m])) \u001b[39mfor\u001b[39;00m x \u001b[39min\u001b[39;00m training_data]\n\u001b[1;32m     <a href='vscode-notebook-cell:/Users/harmyabhatt/NeuralNetworkFromScratch/src/modelRun.ipynb#W2sZmlsZQ%3D%3D?line=11'>12</a>\u001b[0m test_data \u001b[39m=\u001b[39m [(x[\u001b[39m1\u001b[39m:]\u001b[39m.\u001b[39mreshape(\u001b[39m784\u001b[39m, \u001b[39m1\u001b[39m), vectorized_result(x[\u001b[39m0\u001b[39m])) \u001b[39mfor\u001b[39;00m x \u001b[39min\u001b[39;00m test_data]\n\u001b[1;32m     <a href='vscode-notebook-cell:/Users/harmyabhatt/NeuralNetworkFromScratch/src/modelRun.ipynb#W2sZmlsZQ%3D%3D?line=13'>14</a>\u001b[0m \u001b[39mreturn\u001b[39;00m (training_data, test_data)\n",
      "\u001b[0;31mNameError\u001b[0m: name 'vectorized_result' is not defined"
     ]
    }
   ],
   "source": [
    "training_data, test_data = load_data()\n",
    "net = NeuralNetwork([784, 30, 10])\n",
    "net.train(training_data, 30, 10, 3.0, test_data=test_data)"
   ]
  }
 ],
 "metadata": {
  "kernelspec": {
   "display_name": "Python 3",
   "language": "python",
   "name": "python3"
  },
  "language_info": {
   "codemirror_mode": {
    "name": "ipython",
    "version": 3
   },
   "file_extension": ".py",
   "mimetype": "text/x-python",
   "name": "python",
   "nbconvert_exporter": "python",
   "pygments_lexer": "ipython3",
   "version": "3.11.0"
  },
  "orig_nbformat": 4
 },
 "nbformat": 4,
 "nbformat_minor": 2
}
